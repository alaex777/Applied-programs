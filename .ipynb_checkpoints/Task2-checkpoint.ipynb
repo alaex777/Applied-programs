{
 "cells": [
  {
   "cell_type": "code",
   "execution_count": 19,
   "id": "1c9c79f1",
   "metadata": {},
   "outputs": [
    {
     "name": "stdout",
     "output_type": "stream",
     "text": [
      "Полином Жегалкина:  x0*x1*x2 + x0*x1 + x0*x2 + x0\n",
      "Список существенных переменных:  [x1, x2, x0]\n"
     ]
    }
   ],
   "source": [
    "# Задание 1 (полином Жегалкина)\n",
    "\n",
    "from sage.crypto.boolean_function import BooleanFunction\n",
    "\n",
    "# func - список выходных значений функции.\n",
    "func = [0,1,0,0,0,0,0,0]\n",
    "\n",
    "B = BooleanFunction(func)\n",
    "P = B.algebraic_normal_form()\n",
    "\n",
    "print('Полином Жегалкина: ', P)\n",
    "\n",
    "vars = set()\n",
    "for i in P:\n",
    "    for j in i:\n",
    "        vars.add(j)\n",
    "\n",
    "print('Список существенных переменных: ', list(vars))"
   ]
  },
  {
   "cell_type": "code",
   "execution_count": null,
   "id": "283efb89",
   "metadata": {},
   "outputs": [],
   "source": []
  }
 ],
 "metadata": {
  "kernelspec": {
   "display_name": "SageMath 9.7",
   "language": "sage",
   "name": "sagemath-9.7"
  },
  "language_info": {
   "codemirror_mode": {
    "name": "ipython",
    "version": 3
   },
   "file_extension": ".py",
   "mimetype": "text/x-python",
   "name": "python",
   "nbconvert_exporter": "python",
   "pygments_lexer": "ipython3",
   "version": "3.10.5"
  }
 },
 "nbformat": 4,
 "nbformat_minor": 5
}
